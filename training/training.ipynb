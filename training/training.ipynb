{
 "cells": [
  {
   "cell_type": "code",
   "execution_count": 37,
   "metadata": {},
   "outputs": [],
   "source": [
    "import pandas as pd\n",
    "from sentence_transformers import SentenceTransformer\n",
    "from sklearn.cluster import DBSCAN\n",
    "import re\n",
    "from sklearn.linear_model import LogisticRegression\n",
    "from sklearn.model_selection import train_test_split    \n",
    "from sklearn.metrics import classification_report\n",
    "import joblib\n",
    "import os\n"
   ]
  },
  {
   "cell_type": "code",
   "execution_count": 2,
   "metadata": {},
   "outputs": [],
   "source": [
    "df = pd.read_csv('dataset/synthetic_logs.csv')"
   ]
  },
  {
   "cell_type": "code",
   "execution_count": 3,
   "metadata": {},
   "outputs": [
    {
     "data": {
      "text/html": [
       "<div>\n",
       "<style scoped>\n",
       "    .dataframe tbody tr th:only-of-type {\n",
       "        vertical-align: middle;\n",
       "    }\n",
       "\n",
       "    .dataframe tbody tr th {\n",
       "        vertical-align: top;\n",
       "    }\n",
       "\n",
       "    .dataframe thead th {\n",
       "        text-align: right;\n",
       "    }\n",
       "</style>\n",
       "<table border=\"1\" class=\"dataframe\">\n",
       "  <thead>\n",
       "    <tr style=\"text-align: right;\">\n",
       "      <th></th>\n",
       "      <th>timestamp</th>\n",
       "      <th>source</th>\n",
       "      <th>log_message</th>\n",
       "      <th>target_label</th>\n",
       "    </tr>\n",
       "  </thead>\n",
       "  <tbody>\n",
       "    <tr>\n",
       "      <th>0</th>\n",
       "      <td>2025-06-27 07:20:25</td>\n",
       "      <td>ModernCRM</td>\n",
       "      <td>nova.osapi_compute.wsgi.server [req-b9718cd8-f...</td>\n",
       "      <td>HTTP Status</td>\n",
       "    </tr>\n",
       "    <tr>\n",
       "      <th>1</th>\n",
       "      <td>1/14/2025 23:07</td>\n",
       "      <td>ModernCRM</td>\n",
       "      <td>Email service experiencing issues with sending</td>\n",
       "      <td>Critical Error</td>\n",
       "    </tr>\n",
       "    <tr>\n",
       "      <th>2</th>\n",
       "      <td>1/17/2025 1:29</td>\n",
       "      <td>AnalyticsEngine</td>\n",
       "      <td>Unauthorized access to data was attempted</td>\n",
       "      <td>Security Alert</td>\n",
       "    </tr>\n",
       "    <tr>\n",
       "      <th>3</th>\n",
       "      <td>2025-07-12 00:24:16</td>\n",
       "      <td>ModernHR</td>\n",
       "      <td>nova.osapi_compute.wsgi.server [req-4895c258-b...</td>\n",
       "      <td>HTTP Status</td>\n",
       "    </tr>\n",
       "    <tr>\n",
       "      <th>4</th>\n",
       "      <td>2025-06-02 18:25:23</td>\n",
       "      <td>BillingSystem</td>\n",
       "      <td>nova.osapi_compute.wsgi.server [req-ee8bc8ba-9...</td>\n",
       "      <td>HTTP Status</td>\n",
       "    </tr>\n",
       "  </tbody>\n",
       "</table>\n",
       "</div>"
      ],
      "text/plain": [
       "             timestamp           source  \\\n",
       "0  2025-06-27 07:20:25        ModernCRM   \n",
       "1      1/14/2025 23:07        ModernCRM   \n",
       "2       1/17/2025 1:29  AnalyticsEngine   \n",
       "3  2025-07-12 00:24:16         ModernHR   \n",
       "4  2025-06-02 18:25:23    BillingSystem   \n",
       "\n",
       "                                         log_message    target_label  \n",
       "0  nova.osapi_compute.wsgi.server [req-b9718cd8-f...     HTTP Status  \n",
       "1     Email service experiencing issues with sending  Critical Error  \n",
       "2          Unauthorized access to data was attempted  Security Alert  \n",
       "3  nova.osapi_compute.wsgi.server [req-4895c258-b...     HTTP Status  \n",
       "4  nova.osapi_compute.wsgi.server [req-ee8bc8ba-9...     HTTP Status  "
      ]
     },
     "execution_count": 3,
     "metadata": {},
     "output_type": "execute_result"
    }
   ],
   "source": [
    "df.head()"
   ]
  },
  {
   "cell_type": "code",
   "execution_count": 4,
   "metadata": {},
   "outputs": [
    {
     "data": {
      "text/plain": [
       "array(['ModernCRM', 'AnalyticsEngine', 'ModernHR', 'BillingSystem',\n",
       "       'ThirdPartyAPI', 'LegacyCRM'], dtype=object)"
      ]
     },
     "execution_count": 4,
     "metadata": {},
     "output_type": "execute_result"
    }
   ],
   "source": [
    "df.source.unique()"
   ]
  },
  {
   "cell_type": "code",
   "execution_count": 5,
   "metadata": {},
   "outputs": [
    {
     "data": {
      "text/plain": [
       "array(['HTTP Status', 'Critical Error', 'Security Alert', 'Error',\n",
       "       'System Notification', 'Resource Usage', 'User Action',\n",
       "       'Workflow Error', 'Deprecation Warning'], dtype=object)"
      ]
     },
     "execution_count": 5,
     "metadata": {},
     "output_type": "execute_result"
    }
   ],
   "source": [
    "df.target_label.unique()"
   ]
  },
  {
   "cell_type": "code",
   "execution_count": 6,
   "metadata": {},
   "outputs": [
    {
     "data": {
      "text/plain": [
       "array([[-0.10293972,  0.03354599, -0.02202604, ...,  0.00457789,\n",
       "        -0.04259715,  0.00322623],\n",
       "       [ 0.00804573, -0.03573925,  0.04938737, ...,  0.01538317,\n",
       "        -0.06230951, -0.02774668],\n",
       "       [-0.00908224,  0.13003926, -0.05275577, ...,  0.02014109,\n",
       "        -0.05117095, -0.02930295]], shape=(3, 384), dtype=float32)"
      ]
     },
     "execution_count": 6,
     "metadata": {},
     "output_type": "execute_result"
    }
   ],
   "source": [
    "model = SentenceTransformer('all-MiniLM-L6-v2')\n",
    "\n",
    "embeddings = model.encode(df['log_message'].tolist())   \n",
    "\n",
    "embeddings[:3]"
   ]
  },
  {
   "cell_type": "code",
   "execution_count": 7,
   "metadata": {},
   "outputs": [],
   "source": [
    "dbscan = DBSCAN(eps=0.2, min_samples=1,metric='cosine')\n",
    "clusters = dbscan.fit_predict(embeddings)"
   ]
  },
  {
   "cell_type": "code",
   "execution_count": 8,
   "metadata": {},
   "outputs": [],
   "source": [
    "df['cluster'] = clusters"
   ]
  },
  {
   "cell_type": "code",
   "execution_count": 9,
   "metadata": {},
   "outputs": [
    {
     "data": {
      "text/html": [
       "<div>\n",
       "<style scoped>\n",
       "    .dataframe tbody tr th:only-of-type {\n",
       "        vertical-align: middle;\n",
       "    }\n",
       "\n",
       "    .dataframe tbody tr th {\n",
       "        vertical-align: top;\n",
       "    }\n",
       "\n",
       "    .dataframe thead th {\n",
       "        text-align: right;\n",
       "    }\n",
       "</style>\n",
       "<table border=\"1\" class=\"dataframe\">\n",
       "  <thead>\n",
       "    <tr style=\"text-align: right;\">\n",
       "      <th></th>\n",
       "      <th>timestamp</th>\n",
       "      <th>source</th>\n",
       "      <th>log_message</th>\n",
       "      <th>target_label</th>\n",
       "      <th>cluster</th>\n",
       "    </tr>\n",
       "  </thead>\n",
       "  <tbody>\n",
       "    <tr>\n",
       "      <th>0</th>\n",
       "      <td>2025-06-27 07:20:25</td>\n",
       "      <td>ModernCRM</td>\n",
       "      <td>nova.osapi_compute.wsgi.server [req-b9718cd8-f...</td>\n",
       "      <td>HTTP Status</td>\n",
       "      <td>0</td>\n",
       "    </tr>\n",
       "    <tr>\n",
       "      <th>1</th>\n",
       "      <td>1/14/2025 23:07</td>\n",
       "      <td>ModernCRM</td>\n",
       "      <td>Email service experiencing issues with sending</td>\n",
       "      <td>Critical Error</td>\n",
       "      <td>1</td>\n",
       "    </tr>\n",
       "    <tr>\n",
       "      <th>2</th>\n",
       "      <td>1/17/2025 1:29</td>\n",
       "      <td>AnalyticsEngine</td>\n",
       "      <td>Unauthorized access to data was attempted</td>\n",
       "      <td>Security Alert</td>\n",
       "      <td>2</td>\n",
       "    </tr>\n",
       "    <tr>\n",
       "      <th>3</th>\n",
       "      <td>2025-07-12 00:24:16</td>\n",
       "      <td>ModernHR</td>\n",
       "      <td>nova.osapi_compute.wsgi.server [req-4895c258-b...</td>\n",
       "      <td>HTTP Status</td>\n",
       "      <td>0</td>\n",
       "    </tr>\n",
       "    <tr>\n",
       "      <th>4</th>\n",
       "      <td>2025-06-02 18:25:23</td>\n",
       "      <td>BillingSystem</td>\n",
       "      <td>nova.osapi_compute.wsgi.server [req-ee8bc8ba-9...</td>\n",
       "      <td>HTTP Status</td>\n",
       "      <td>0</td>\n",
       "    </tr>\n",
       "  </tbody>\n",
       "</table>\n",
       "</div>"
      ],
      "text/plain": [
       "             timestamp           source  \\\n",
       "0  2025-06-27 07:20:25        ModernCRM   \n",
       "1      1/14/2025 23:07        ModernCRM   \n",
       "2       1/17/2025 1:29  AnalyticsEngine   \n",
       "3  2025-07-12 00:24:16         ModernHR   \n",
       "4  2025-06-02 18:25:23    BillingSystem   \n",
       "\n",
       "                                         log_message    target_label  cluster  \n",
       "0  nova.osapi_compute.wsgi.server [req-b9718cd8-f...     HTTP Status        0  \n",
       "1     Email service experiencing issues with sending  Critical Error        1  \n",
       "2          Unauthorized access to data was attempted  Security Alert        2  \n",
       "3  nova.osapi_compute.wsgi.server [req-4895c258-b...     HTTP Status        0  \n",
       "4  nova.osapi_compute.wsgi.server [req-ee8bc8ba-9...     HTTP Status        0  "
      ]
     },
     "execution_count": 9,
     "metadata": {},
     "output_type": "execute_result"
    }
   ],
   "source": [
    "df.head()"
   ]
  },
  {
   "cell_type": "code",
   "execution_count": 10,
   "metadata": {},
   "outputs": [
    {
     "data": {
      "text/plain": [
       "array([  0,   1,   2,   3,   4,   5,   6,   7,   8,   9,  10,  11,  12,\n",
       "        13,  14,  15,  16,  17,  18,  19,  20,  21,  22,  23,  24,  25,\n",
       "        26,  27,  28,  29,  30,  31,  32,  33,  34,  35,  36,  37,  38,\n",
       "        39,  40,  41,  42,  43,  44,  45,  46,  47,  48,  49,  50,  51,\n",
       "        52,  53,  54,  55,  56,  57,  58,  59,  60,  61,  62,  63,  64,\n",
       "        65,  66,  67,  68,  69,  70,  71,  72,  73,  74,  75,  76,  77,\n",
       "        78,  79,  80,  81,  82,  83,  84,  85,  86,  87,  88,  89,  90,\n",
       "        91,  92,  93,  94,  95,  96,  97,  98,  99, 100, 101, 102, 103,\n",
       "       104, 105, 106, 107, 108, 109, 110, 111, 112, 113, 114, 115, 116,\n",
       "       117, 118, 119, 120, 121, 122, 123, 124, 125, 126, 127, 128, 129,\n",
       "       130, 131, 132, 133, 134, 135])"
      ]
     },
     "execution_count": 10,
     "metadata": {},
     "output_type": "execute_result"
    }
   ],
   "source": [
    "df.cluster.unique()"
   ]
  },
  {
   "cell_type": "code",
   "execution_count": 11,
   "metadata": {},
   "outputs": [
    {
     "data": {
      "text/html": [
       "<div>\n",
       "<style scoped>\n",
       "    .dataframe tbody tr th:only-of-type {\n",
       "        vertical-align: middle;\n",
       "    }\n",
       "\n",
       "    .dataframe tbody tr th {\n",
       "        vertical-align: top;\n",
       "    }\n",
       "\n",
       "    .dataframe thead th {\n",
       "        text-align: right;\n",
       "    }\n",
       "</style>\n",
       "<table border=\"1\" class=\"dataframe\">\n",
       "  <thead>\n",
       "    <tr style=\"text-align: right;\">\n",
       "      <th></th>\n",
       "      <th>timestamp</th>\n",
       "      <th>source</th>\n",
       "      <th>log_message</th>\n",
       "      <th>target_label</th>\n",
       "      <th>cluster</th>\n",
       "    </tr>\n",
       "  </thead>\n",
       "  <tbody>\n",
       "    <tr>\n",
       "      <th>0</th>\n",
       "      <td>2025-06-27 07:20:25</td>\n",
       "      <td>ModernCRM</td>\n",
       "      <td>nova.osapi_compute.wsgi.server [req-b9718cd8-f...</td>\n",
       "      <td>HTTP Status</td>\n",
       "      <td>0</td>\n",
       "    </tr>\n",
       "    <tr>\n",
       "      <th>3</th>\n",
       "      <td>2025-07-12 00:24:16</td>\n",
       "      <td>ModernHR</td>\n",
       "      <td>nova.osapi_compute.wsgi.server [req-4895c258-b...</td>\n",
       "      <td>HTTP Status</td>\n",
       "      <td>0</td>\n",
       "    </tr>\n",
       "    <tr>\n",
       "      <th>4</th>\n",
       "      <td>2025-06-02 18:25:23</td>\n",
       "      <td>BillingSystem</td>\n",
       "      <td>nova.osapi_compute.wsgi.server [req-ee8bc8ba-9...</td>\n",
       "      <td>HTTP Status</td>\n",
       "      <td>0</td>\n",
       "    </tr>\n",
       "    <tr>\n",
       "      <th>5</th>\n",
       "      <td>2025-10-09 10:30:31</td>\n",
       "      <td>ModernHR</td>\n",
       "      <td>nova.osapi_compute.wsgi.server [req-f0bffbc3-5...</td>\n",
       "      <td>HTTP Status</td>\n",
       "      <td>0</td>\n",
       "    </tr>\n",
       "    <tr>\n",
       "      <th>9</th>\n",
       "      <td>2025-03-30 04:01:45</td>\n",
       "      <td>ModernHR</td>\n",
       "      <td>nova.osapi_compute.wsgi.server [req-2bf7cfee-a...</td>\n",
       "      <td>HTTP Status</td>\n",
       "      <td>0</td>\n",
       "    </tr>\n",
       "    <tr>\n",
       "      <th>...</th>\n",
       "      <td>...</td>\n",
       "      <td>...</td>\n",
       "      <td>...</td>\n",
       "      <td>...</td>\n",
       "      <td>...</td>\n",
       "    </tr>\n",
       "    <tr>\n",
       "      <th>2399</th>\n",
       "      <td>2025-03-08 06:23:00</td>\n",
       "      <td>ThirdPartyAPI</td>\n",
       "      <td>nova.metadata.wsgi.server [req-ba29717b-249a-4...</td>\n",
       "      <td>HTTP Status</td>\n",
       "      <td>0</td>\n",
       "    </tr>\n",
       "    <tr>\n",
       "      <th>2401</th>\n",
       "      <td>2025-12-05 15:51:51</td>\n",
       "      <td>ModernCRM</td>\n",
       "      <td>nova.osapi_compute.wsgi.server [req-4bdf00b0-3...</td>\n",
       "      <td>HTTP Status</td>\n",
       "      <td>0</td>\n",
       "    </tr>\n",
       "    <tr>\n",
       "      <th>2404</th>\n",
       "      <td>2025-09-18 02:18:30</td>\n",
       "      <td>ThirdPartyAPI</td>\n",
       "      <td>nova.osapi_compute.wsgi.server [req-2c9c783f-3...</td>\n",
       "      <td>HTTP Status</td>\n",
       "      <td>0</td>\n",
       "    </tr>\n",
       "    <tr>\n",
       "      <th>2405</th>\n",
       "      <td>2025-08-13 07:29:25</td>\n",
       "      <td>ModernHR</td>\n",
       "      <td>nova.osapi_compute.wsgi.server [req-96c3ec98-2...</td>\n",
       "      <td>HTTP Status</td>\n",
       "      <td>0</td>\n",
       "    </tr>\n",
       "    <tr>\n",
       "      <th>2407</th>\n",
       "      <td>2025-08-03 03:07:47</td>\n",
       "      <td>ThirdPartyAPI</td>\n",
       "      <td>nova.metadata.wsgi.server [req-b6d4a270-accb-4...</td>\n",
       "      <td>HTTP Status</td>\n",
       "      <td>0</td>\n",
       "    </tr>\n",
       "  </tbody>\n",
       "</table>\n",
       "<p>1017 rows × 5 columns</p>\n",
       "</div>"
      ],
      "text/plain": [
       "                timestamp         source  \\\n",
       "0     2025-06-27 07:20:25      ModernCRM   \n",
       "3     2025-07-12 00:24:16       ModernHR   \n",
       "4     2025-06-02 18:25:23  BillingSystem   \n",
       "5     2025-10-09 10:30:31       ModernHR   \n",
       "9     2025-03-30 04:01:45       ModernHR   \n",
       "...                   ...            ...   \n",
       "2399  2025-03-08 06:23:00  ThirdPartyAPI   \n",
       "2401  2025-12-05 15:51:51      ModernCRM   \n",
       "2404  2025-09-18 02:18:30  ThirdPartyAPI   \n",
       "2405  2025-08-13 07:29:25       ModernHR   \n",
       "2407  2025-08-03 03:07:47  ThirdPartyAPI   \n",
       "\n",
       "                                            log_message target_label  cluster  \n",
       "0     nova.osapi_compute.wsgi.server [req-b9718cd8-f...  HTTP Status        0  \n",
       "3     nova.osapi_compute.wsgi.server [req-4895c258-b...  HTTP Status        0  \n",
       "4     nova.osapi_compute.wsgi.server [req-ee8bc8ba-9...  HTTP Status        0  \n",
       "5     nova.osapi_compute.wsgi.server [req-f0bffbc3-5...  HTTP Status        0  \n",
       "9     nova.osapi_compute.wsgi.server [req-2bf7cfee-a...  HTTP Status        0  \n",
       "...                                                 ...          ...      ...  \n",
       "2399  nova.metadata.wsgi.server [req-ba29717b-249a-4...  HTTP Status        0  \n",
       "2401  nova.osapi_compute.wsgi.server [req-4bdf00b0-3...  HTTP Status        0  \n",
       "2404  nova.osapi_compute.wsgi.server [req-2c9c783f-3...  HTTP Status        0  \n",
       "2405  nova.osapi_compute.wsgi.server [req-96c3ec98-2...  HTTP Status        0  \n",
       "2407  nova.metadata.wsgi.server [req-b6d4a270-accb-4...  HTTP Status        0  \n",
       "\n",
       "[1017 rows x 5 columns]"
      ]
     },
     "execution_count": 11,
     "metadata": {},
     "output_type": "execute_result"
    }
   ],
   "source": [
    "df[df.cluster == 0]"
   ]
  },
  {
   "cell_type": "code",
   "execution_count": 12,
   "metadata": {},
   "outputs": [
    {
     "data": {
      "text/html": [
       "<div>\n",
       "<style scoped>\n",
       "    .dataframe tbody tr th:only-of-type {\n",
       "        vertical-align: middle;\n",
       "    }\n",
       "\n",
       "    .dataframe tbody tr th {\n",
       "        vertical-align: top;\n",
       "    }\n",
       "\n",
       "    .dataframe thead th {\n",
       "        text-align: right;\n",
       "    }\n",
       "</style>\n",
       "<table border=\"1\" class=\"dataframe\">\n",
       "  <thead>\n",
       "    <tr style=\"text-align: right;\">\n",
       "      <th></th>\n",
       "      <th>timestamp</th>\n",
       "      <th>source</th>\n",
       "      <th>log_message</th>\n",
       "      <th>target_label</th>\n",
       "      <th>cluster</th>\n",
       "    </tr>\n",
       "  </thead>\n",
       "  <tbody>\n",
       "    <tr>\n",
       "      <th>8</th>\n",
       "      <td>2025-02-12 10:42:29</td>\n",
       "      <td>ThirdPartyAPI</td>\n",
       "      <td>nova.compute.claims [req-a07ac654-8e81-416d-bf...</td>\n",
       "      <td>Resource Usage</td>\n",
       "      <td>5</td>\n",
       "    </tr>\n",
       "    <tr>\n",
       "      <th>26</th>\n",
       "      <td>2025-03-03 17:11:11</td>\n",
       "      <td>ModernCRM</td>\n",
       "      <td>nova.compute.claims [req-d6986b54-3735-4a42-90...</td>\n",
       "      <td>Resource Usage</td>\n",
       "      <td>5</td>\n",
       "    </tr>\n",
       "    <tr>\n",
       "      <th>40</th>\n",
       "      <td>2025-06-19 21:42:34</td>\n",
       "      <td>ThirdPartyAPI</td>\n",
       "      <td>nova.compute.claims [req-72b4858f-049e-49e1-b3...</td>\n",
       "      <td>Resource Usage</td>\n",
       "      <td>5</td>\n",
       "    </tr>\n",
       "    <tr>\n",
       "      <th>58</th>\n",
       "      <td>2025-09-13 14:45:14</td>\n",
       "      <td>AnalyticsEngine</td>\n",
       "      <td>nova.compute.claims [req-5c8f52bd-8e3c-41f0-95...</td>\n",
       "      <td>Resource Usage</td>\n",
       "      <td>5</td>\n",
       "    </tr>\n",
       "    <tr>\n",
       "      <th>61</th>\n",
       "      <td>2025-04-27 11:18:18</td>\n",
       "      <td>ThirdPartyAPI</td>\n",
       "      <td>nova.compute.claims [req-d38f479d-9bb9-4276-96...</td>\n",
       "      <td>Resource Usage</td>\n",
       "      <td>5</td>\n",
       "    </tr>\n",
       "    <tr>\n",
       "      <th>...</th>\n",
       "      <td>...</td>\n",
       "      <td>...</td>\n",
       "      <td>...</td>\n",
       "      <td>...</td>\n",
       "      <td>...</td>\n",
       "    </tr>\n",
       "    <tr>\n",
       "      <th>2336</th>\n",
       "      <td>2025-12-10 11:53:33</td>\n",
       "      <td>AnalyticsEngine</td>\n",
       "      <td>nova.compute.claims [req-97fcea79-42f7-4241-9b...</td>\n",
       "      <td>Resource Usage</td>\n",
       "      <td>5</td>\n",
       "    </tr>\n",
       "    <tr>\n",
       "      <th>2345</th>\n",
       "      <td>2025-12-22 01:38:48</td>\n",
       "      <td>BillingSystem</td>\n",
       "      <td>nova.compute.claims [req-caeb3818-dab6-4e8d-9e...</td>\n",
       "      <td>Resource Usage</td>\n",
       "      <td>5</td>\n",
       "    </tr>\n",
       "    <tr>\n",
       "      <th>2352</th>\n",
       "      <td>2025-02-18 00:16:44</td>\n",
       "      <td>ModernCRM</td>\n",
       "      <td>nova.compute.claims [req-98474cd9-61e1-4afe-bd...</td>\n",
       "      <td>Resource Usage</td>\n",
       "      <td>5</td>\n",
       "    </tr>\n",
       "    <tr>\n",
       "      <th>2355</th>\n",
       "      <td>2025-11-28 18:03:55</td>\n",
       "      <td>BillingSystem</td>\n",
       "      <td>nova.compute.claims [req-6f9ecdfe-481c-4535-9b...</td>\n",
       "      <td>Resource Usage</td>\n",
       "      <td>5</td>\n",
       "    </tr>\n",
       "    <tr>\n",
       "      <th>2372</th>\n",
       "      <td>2025-08-07 05:49:03</td>\n",
       "      <td>ThirdPartyAPI</td>\n",
       "      <td>nova.compute.claims [req-01d570b0-78a7-4719-b7...</td>\n",
       "      <td>Resource Usage</td>\n",
       "      <td>5</td>\n",
       "    </tr>\n",
       "  </tbody>\n",
       "</table>\n",
       "<p>147 rows × 5 columns</p>\n",
       "</div>"
      ],
      "text/plain": [
       "                timestamp           source  \\\n",
       "8     2025-02-12 10:42:29    ThirdPartyAPI   \n",
       "26    2025-03-03 17:11:11        ModernCRM   \n",
       "40    2025-06-19 21:42:34    ThirdPartyAPI   \n",
       "58    2025-09-13 14:45:14  AnalyticsEngine   \n",
       "61    2025-04-27 11:18:18    ThirdPartyAPI   \n",
       "...                   ...              ...   \n",
       "2336  2025-12-10 11:53:33  AnalyticsEngine   \n",
       "2345  2025-12-22 01:38:48    BillingSystem   \n",
       "2352  2025-02-18 00:16:44        ModernCRM   \n",
       "2355  2025-11-28 18:03:55    BillingSystem   \n",
       "2372  2025-08-07 05:49:03    ThirdPartyAPI   \n",
       "\n",
       "                                            log_message    target_label  \\\n",
       "8     nova.compute.claims [req-a07ac654-8e81-416d-bf...  Resource Usage   \n",
       "26    nova.compute.claims [req-d6986b54-3735-4a42-90...  Resource Usage   \n",
       "40    nova.compute.claims [req-72b4858f-049e-49e1-b3...  Resource Usage   \n",
       "58    nova.compute.claims [req-5c8f52bd-8e3c-41f0-95...  Resource Usage   \n",
       "61    nova.compute.claims [req-d38f479d-9bb9-4276-96...  Resource Usage   \n",
       "...                                                 ...             ...   \n",
       "2336  nova.compute.claims [req-97fcea79-42f7-4241-9b...  Resource Usage   \n",
       "2345  nova.compute.claims [req-caeb3818-dab6-4e8d-9e...  Resource Usage   \n",
       "2352  nova.compute.claims [req-98474cd9-61e1-4afe-bd...  Resource Usage   \n",
       "2355  nova.compute.claims [req-6f9ecdfe-481c-4535-9b...  Resource Usage   \n",
       "2372  nova.compute.claims [req-01d570b0-78a7-4719-b7...  Resource Usage   \n",
       "\n",
       "      cluster  \n",
       "8           5  \n",
       "26          5  \n",
       "40          5  \n",
       "58          5  \n",
       "61          5  \n",
       "...       ...  \n",
       "2336        5  \n",
       "2345        5  \n",
       "2352        5  \n",
       "2355        5  \n",
       "2372        5  \n",
       "\n",
       "[147 rows x 5 columns]"
      ]
     },
     "execution_count": 12,
     "metadata": {},
     "output_type": "execute_result"
    }
   ],
   "source": [
    "df[df.cluster == 5]"
   ]
  },
  {
   "cell_type": "code",
   "execution_count": 13,
   "metadata": {},
   "outputs": [
    {
     "name": "stdout",
     "output_type": "stream",
     "text": [
      "Cluster 0\n",
      "nova.osapi_compute.wsgi.server [req-b9718cd8-f6...\n",
      "nova.osapi_compute.wsgi.server [req-4895c258-b2...\n",
      "nova.osapi_compute.wsgi.server [req-ee8bc8ba-92...\n",
      "nova.osapi_compute.wsgi.server [req-f0bffbc3-5a...\n",
      "nova.osapi_compute.wsgi.server [req-2bf7cfee-a2...\n",
      "\n",
      "Cluster 5\n",
      "nova.compute.claims [req-a07ac654-8e81-416d-bfb...\n",
      "nova.compute.claims [req-d6986b54-3735-4a42-907...\n",
      "nova.compute.claims [req-72b4858f-049e-49e1-b31...\n",
      "nova.compute.claims [req-5c8f52bd-8e3c-41f0-95a...\n",
      "nova.compute.claims [req-d38f479d-9bb9-4276-968...\n",
      "\n",
      "Cluster 11\n",
      "User User685 logged out.\n",
      " User User395 logged in.\n",
      " User User225 logged in.\n",
      "User User494 logged out.\n",
      " User User900 logged in.\n",
      "\n",
      "Cluster 13\n",
      "Backup started at 2025-05-14 07:06:55.\n",
      "Backup started at 2025-02-15 20:00:19.\n",
      "  Backup ended at 2025-08-08 13:06:23.\n",
      "Backup started at 2025-11-14 08:27:43.\n",
      "Backup started at 2025-12-09 10:19:11.\n",
      "\n",
      "Cluster 7\n",
      "Multiple bad login attempts detected on user 85...\n",
      "Multiple login failures occurred on user 9052 a...\n",
      "  User 7153 made multiple incorrect login attempts\n",
      "  User 8300 made multiple incorrect login attempts\n",
      "Multiple login failures were detected for user ...\n",
      "\n",
      "Cluster 8\n",
      "Backup completed successfully.\n",
      "Backup completed successfully.\n",
      "Backup completed successfully.\n",
      "Backup completed successfully.\n",
      "Backup completed successfully.\n",
      "\n",
      "Cluster 21\n",
      "System updated to version 3.9.1.\n",
      "System updated to version 5.5.4.\n",
      "System updated to version 4.7.4.\n",
      "System updated to version 3.7.7.\n",
      "System updated to version 2.6.2.\n",
      "\n",
      "Cluster 3\n",
      "         Shard 6 replication task ended in failure\n",
      "Data replication task for shard 14 did not comp...\n",
      "         Data replication task failed for shard 17\n",
      "            Replication of data to shard 14 failed\n",
      "Data replication task for shard 6 did not complete\n",
      "\n",
      "Cluster 4\n",
      "File data_6169.csv uploaded successfully by use...\n",
      "File data_3847.csv uploaded successfully by use...\n",
      "File data_7366.csv uploaded successfully by use...\n",
      "File data_1206.csv uploaded successfully by use...\n",
      "File data_1503.csv uploaded successfully by use...\n",
      "\n",
      "Cluster 17\n",
      "Denied access attempt on restricted account Acc...\n",
      "Unauthorized login attempt on protected account...\n",
      "   Account Account9437 blocked due to failed login\n",
      "Account Account7999 access denied due to login ...\n",
      "Invalid login attempt made on secured account A...\n",
      "\n",
      "Cluster 6\n",
      "   Critical system unit error: unit ID Component55\n",
      "System component malfunction: component ID Comp...\n",
      "Critical system element is down: element ID Com...\n",
      "Essential system part malfunction: part ID Comp...\n",
      "Failure occurred in critical system component: ...\n",
      "\n",
      "Cluster 32\n",
      "Disk cleanup completed successfully.\n",
      "Disk cleanup completed successfully.\n",
      "Disk cleanup completed successfully.\n",
      "Disk cleanup completed successfully.\n",
      "Disk cleanup completed successfully.\n",
      "\n",
      "Cluster 16\n",
      "System reboot initiated by user User243.\n",
      "System reboot initiated by user User471.\n",
      "System reboot initiated by user User216.\n",
      "System reboot initiated by user User639.\n",
      "System reboot initiated by user User819.\n",
      "\n",
      "Cluster 20\n",
      "   User 7662 tried to bypass API security measures\n",
      "User 2367 failed to provide valid API access cr...\n",
      "        User 3569 made an unauthorized API request\n",
      "Unauthorized user 2968 tried to access restrict...\n",
      "User 2186 attempted to access API without prope...\n",
      "\n",
      "Cluster 9\n",
      "Account with ID 5351 created by User634.\n",
      "Account with ID 7813 created by User373.\n",
      "Account with ID 9827 created by User965.\n",
      "Account with ID 2520 created by User546.\n",
      "Account with ID 2300 created by User964.\n",
      "\n",
      "Cluster 1\n",
      "  Email service experiencing issues with sending\n",
      "        Email server encountered a sending fault\n",
      "      Mail service encountered a delivery glitch\n",
      "Service disruption caused by email sending error\n",
      "       Email system had a problem sending emails\n",
      "\n",
      "Cluster 10\n",
      "nova.compute.resource_tracker [req-addc1839-2ed...\n",
      "nova.compute.resource_tracker [req-addc1839-2ed...\n",
      "nova.compute.resource_tracker [req-addc1839-2ed...\n",
      "nova.compute.resource_tracker [req-addc1839-2ed...\n",
      "nova.compute.resource_tracker [req-addc1839-2ed...\n",
      "\n",
      "Cluster 34\n",
      "Abnormal behavior found on server 10, possible ...\n",
      "   Security alert: suspicious activity on server 1\n",
      "Anomalous activity identified on server 23, sec...\n",
      "Server 27 experienced potential security incide...\n",
      "Server 36 experienced potential security incide...\n",
      "\n",
      "Cluster 53\n",
      " Module X experienced an invalid data format issue\n",
      "        Input format mismatch occurred in module X\n",
      "Module X reported an error in input format vali...\n",
      "Module X failed to process input due to formatt...\n",
      "Input data format in module X was invalid or co...\n",
      "\n",
      "Cluster 14\n",
      "   Detection of multiple disk faults in RAID setup\n",
      "  RAID array suffered multiple hard drive failures\n",
      "      RAID array experienced multiple disk crashes\n",
      "Multiple hard drive issues in RAID configuratio...\n",
      "Identification of multiple faulty disks in RAID...\n",
      "\n",
      "Cluster 52\n",
      "Service health check was not successful because...\n",
      "Invalid SSL certificate resulted in a failed se...\n",
      "Service health check failure was due to an inva...\n",
      "An issue with the SSL certificate caused the se...\n",
      "Service health check failure was caused by an e...\n",
      "\n",
      "Cluster 18\n",
      "Boot process terminated unexpectedly due to ker...\n",
      "System encountered kernel panic during initiali...\n",
      "    Boot process was stopped by kernel malfunction\n",
      "System encountered kernel failure during bootup...\n",
      "          Boot sequence failed due to kernel panic\n",
      "\n",
      "Cluster 42\n",
      "User 5127 has escalated admin privileges withou...\n",
      "            User 9745 has escalated to admin level\n",
      "     User 8483 escalated privileges to admin level\n",
      "            User 1987 has escalated to admin level\n",
      "     User 8395 escalated privileges to admin level\n",
      "\n",
      "Cluster 25\n",
      "         System configuration is no longer valid\n",
      "Configuration is corrupted throughout the system\n",
      "     Cross-system configuration failure occurred\n",
      "     System configuration is experiencing errors\n",
      "        Configuration malfunction is system-wide\n",
      "\n",
      "Cluster 59\n",
      "Potential security threat: Admin privilege esca...\n",
      "    Admin privilege escalation alert for user 2893\n",
      "    Admin privilege escalation alert for user 8532\n",
      "Potential security threat: Admin privilege esca...\n",
      "Warning: Potential admin privilege escalation f...\n",
      "\n",
      "Cluster 26\n",
      "        Privilege elevation detected for user 5038\n",
      "Elevation of admin privileges detected for user...\n",
      "Elevation of admin privileges detected for user...\n",
      "User 6069 has been granted elevated admin privi...\n",
      "   Admin privilege elevation warning for user 7574\n",
      "\n"
     ]
    }
   ],
   "source": [
    "cluster_counts = df.cluster.value_counts()\n",
    "large_clusters = cluster_counts[cluster_counts > 10].index\n",
    "\n",
    "for cluster in large_clusters:\n",
    "    print(f'Cluster {cluster}')\n",
    "    print(df[df.cluster == cluster].log_message.head(5).to_string(index=False))\n",
    "    print()"
   ]
  },
  {
   "cell_type": "code",
   "execution_count": 14,
   "metadata": {},
   "outputs": [],
   "source": [
    "def classify_with_regex(log_message):\n",
    "    regex_patterns = {\n",
    "        r\"User User\\d+ logged (in|out).\": \"User Action\",\n",
    "        r\"Backup (started|ended) at .*\": \"System Notification\",\n",
    "        r\"Backup completed successfully.\": \"System Notification\",\n",
    "        r\"System updated to version .*\": \"System Notification\",\n",
    "        r\"File .* uploaded successfully by user .*\": \"System Notification\",\n",
    "        r\"Disk cleanup completed successfully.\": \"System Notification\",\n",
    "        r\"System reboot initiated by user .*\": \"System Notification\",\n",
    "        r\"Account with ID .* created by .*\": \"User Action\"\n",
    "    }\n",
    "    for pattern, label in regex_patterns.items():\n",
    "        if re.search(pattern, log_message,re.IGNORECASE):\n",
    "            return label\n",
    "    return None"
   ]
  },
  {
   "cell_type": "code",
   "execution_count": 15,
   "metadata": {},
   "outputs": [
    {
     "data": {
      "text/plain": [
       "'User Action'"
      ]
     },
     "execution_count": 15,
     "metadata": {},
     "output_type": "execute_result"
    }
   ],
   "source": [
    "classify_with_regex(\"User User123 logged in.\")"
   ]
  },
  {
   "cell_type": "code",
   "execution_count": 17,
   "metadata": {},
   "outputs": [],
   "source": [
    "df[\"regex_label\"] = df.log_message.apply(classify_with_regex)"
   ]
  },
  {
   "cell_type": "code",
   "execution_count": 21,
   "metadata": {},
   "outputs": [
    {
     "data": {
      "text/plain": [
       "(2410, 6)"
      ]
     },
     "execution_count": 21,
     "metadata": {},
     "output_type": "execute_result"
    }
   ],
   "source": [
    "df.shape"
   ]
  },
  {
   "cell_type": "code",
   "execution_count": 22,
   "metadata": {},
   "outputs": [
    {
     "data": {
      "text/plain": [
       "(1910, 6)"
      ]
     },
     "execution_count": 22,
     "metadata": {},
     "output_type": "execute_result"
    }
   ],
   "source": [
    "df[df.regex_label.isna()].shape"
   ]
  },
  {
   "cell_type": "code",
   "execution_count": 23,
   "metadata": {},
   "outputs": [
    {
     "data": {
      "text/plain": [
       "(500, 6)"
      ]
     },
     "execution_count": 23,
     "metadata": {},
     "output_type": "execute_result"
    }
   ],
   "source": [
    "df[df.regex_label.notnull()].shape"
   ]
  },
  {
   "cell_type": "code",
   "execution_count": 19,
   "metadata": {},
   "outputs": [
    {
     "data": {
      "text/html": [
       "<div>\n",
       "<style scoped>\n",
       "    .dataframe tbody tr th:only-of-type {\n",
       "        vertical-align: middle;\n",
       "    }\n",
       "\n",
       "    .dataframe tbody tr th {\n",
       "        vertical-align: top;\n",
       "    }\n",
       "\n",
       "    .dataframe thead th {\n",
       "        text-align: right;\n",
       "    }\n",
       "</style>\n",
       "<table border=\"1\" class=\"dataframe\">\n",
       "  <thead>\n",
       "    <tr style=\"text-align: right;\">\n",
       "      <th></th>\n",
       "      <th>timestamp</th>\n",
       "      <th>source</th>\n",
       "      <th>log_message</th>\n",
       "      <th>target_label</th>\n",
       "      <th>cluster</th>\n",
       "      <th>regex_label</th>\n",
       "    </tr>\n",
       "  </thead>\n",
       "  <tbody>\n",
       "    <tr>\n",
       "      <th>7</th>\n",
       "      <td>10/11/2025 8:44</td>\n",
       "      <td>ModernHR</td>\n",
       "      <td>File data_6169.csv uploaded successfully by us...</td>\n",
       "      <td>System Notification</td>\n",
       "      <td>4</td>\n",
       "      <td>System Notification</td>\n",
       "    </tr>\n",
       "    <tr>\n",
       "      <th>14</th>\n",
       "      <td>1/4/2025 1:43</td>\n",
       "      <td>ThirdPartyAPI</td>\n",
       "      <td>File data_3847.csv uploaded successfully by us...</td>\n",
       "      <td>System Notification</td>\n",
       "      <td>4</td>\n",
       "      <td>System Notification</td>\n",
       "    </tr>\n",
       "    <tr>\n",
       "      <th>15</th>\n",
       "      <td>5/1/2025 9:41</td>\n",
       "      <td>ModernCRM</td>\n",
       "      <td>Backup completed successfully.</td>\n",
       "      <td>System Notification</td>\n",
       "      <td>8</td>\n",
       "      <td>System Notification</td>\n",
       "    </tr>\n",
       "    <tr>\n",
       "      <th>18</th>\n",
       "      <td>2/22/2025 17:49</td>\n",
       "      <td>ModernCRM</td>\n",
       "      <td>Account with ID 5351 created by User634.</td>\n",
       "      <td>User Action</td>\n",
       "      <td>9</td>\n",
       "      <td>User Action</td>\n",
       "    </tr>\n",
       "    <tr>\n",
       "      <th>27</th>\n",
       "      <td>9/24/2025 19:57</td>\n",
       "      <td>ThirdPartyAPI</td>\n",
       "      <td>User User685 logged out.</td>\n",
       "      <td>User Action</td>\n",
       "      <td>11</td>\n",
       "      <td>User Action</td>\n",
       "    </tr>\n",
       "  </tbody>\n",
       "</table>\n",
       "</div>"
      ],
      "text/plain": [
       "          timestamp         source  \\\n",
       "7   10/11/2025 8:44       ModernHR   \n",
       "14    1/4/2025 1:43  ThirdPartyAPI   \n",
       "15    5/1/2025 9:41      ModernCRM   \n",
       "18  2/22/2025 17:49      ModernCRM   \n",
       "27  9/24/2025 19:57  ThirdPartyAPI   \n",
       "\n",
       "                                          log_message         target_label  \\\n",
       "7   File data_6169.csv uploaded successfully by us...  System Notification   \n",
       "14  File data_3847.csv uploaded successfully by us...  System Notification   \n",
       "15                     Backup completed successfully.  System Notification   \n",
       "18           Account with ID 5351 created by User634.          User Action   \n",
       "27                           User User685 logged out.          User Action   \n",
       "\n",
       "    cluster          regex_label  \n",
       "7         4  System Notification  \n",
       "14        4  System Notification  \n",
       "15        8  System Notification  \n",
       "18        9          User Action  \n",
       "27       11          User Action  "
      ]
     },
     "execution_count": 19,
     "metadata": {},
     "output_type": "execute_result"
    }
   ],
   "source": [
    "df[df.regex_label.notnull()].head()"
   ]
  },
  {
   "cell_type": "code",
   "execution_count": 20,
   "metadata": {},
   "outputs": [
    {
     "data": {
      "text/html": [
       "<div>\n",
       "<style scoped>\n",
       "    .dataframe tbody tr th:only-of-type {\n",
       "        vertical-align: middle;\n",
       "    }\n",
       "\n",
       "    .dataframe tbody tr th {\n",
       "        vertical-align: top;\n",
       "    }\n",
       "\n",
       "    .dataframe thead th {\n",
       "        text-align: right;\n",
       "    }\n",
       "</style>\n",
       "<table border=\"1\" class=\"dataframe\">\n",
       "  <thead>\n",
       "    <tr style=\"text-align: right;\">\n",
       "      <th></th>\n",
       "      <th>timestamp</th>\n",
       "      <th>source</th>\n",
       "      <th>log_message</th>\n",
       "      <th>target_label</th>\n",
       "      <th>cluster</th>\n",
       "      <th>regex_label</th>\n",
       "    </tr>\n",
       "  </thead>\n",
       "  <tbody>\n",
       "    <tr>\n",
       "      <th>0</th>\n",
       "      <td>2025-06-27 07:20:25</td>\n",
       "      <td>ModernCRM</td>\n",
       "      <td>nova.osapi_compute.wsgi.server [req-b9718cd8-f...</td>\n",
       "      <td>HTTP Status</td>\n",
       "      <td>0</td>\n",
       "      <td>None</td>\n",
       "    </tr>\n",
       "    <tr>\n",
       "      <th>1</th>\n",
       "      <td>1/14/2025 23:07</td>\n",
       "      <td>ModernCRM</td>\n",
       "      <td>Email service experiencing issues with sending</td>\n",
       "      <td>Critical Error</td>\n",
       "      <td>1</td>\n",
       "      <td>None</td>\n",
       "    </tr>\n",
       "    <tr>\n",
       "      <th>2</th>\n",
       "      <td>1/17/2025 1:29</td>\n",
       "      <td>AnalyticsEngine</td>\n",
       "      <td>Unauthorized access to data was attempted</td>\n",
       "      <td>Security Alert</td>\n",
       "      <td>2</td>\n",
       "      <td>None</td>\n",
       "    </tr>\n",
       "    <tr>\n",
       "      <th>3</th>\n",
       "      <td>2025-07-12 00:24:16</td>\n",
       "      <td>ModernHR</td>\n",
       "      <td>nova.osapi_compute.wsgi.server [req-4895c258-b...</td>\n",
       "      <td>HTTP Status</td>\n",
       "      <td>0</td>\n",
       "      <td>None</td>\n",
       "    </tr>\n",
       "    <tr>\n",
       "      <th>4</th>\n",
       "      <td>2025-06-02 18:25:23</td>\n",
       "      <td>BillingSystem</td>\n",
       "      <td>nova.osapi_compute.wsgi.server [req-ee8bc8ba-9...</td>\n",
       "      <td>HTTP Status</td>\n",
       "      <td>0</td>\n",
       "      <td>None</td>\n",
       "    </tr>\n",
       "  </tbody>\n",
       "</table>\n",
       "</div>"
      ],
      "text/plain": [
       "             timestamp           source  \\\n",
       "0  2025-06-27 07:20:25        ModernCRM   \n",
       "1      1/14/2025 23:07        ModernCRM   \n",
       "2       1/17/2025 1:29  AnalyticsEngine   \n",
       "3  2025-07-12 00:24:16         ModernHR   \n",
       "4  2025-06-02 18:25:23    BillingSystem   \n",
       "\n",
       "                                         log_message    target_label  cluster  \\\n",
       "0  nova.osapi_compute.wsgi.server [req-b9718cd8-f...     HTTP Status        0   \n",
       "1     Email service experiencing issues with sending  Critical Error        1   \n",
       "2          Unauthorized access to data was attempted  Security Alert        2   \n",
       "3  nova.osapi_compute.wsgi.server [req-4895c258-b...     HTTP Status        0   \n",
       "4  nova.osapi_compute.wsgi.server [req-ee8bc8ba-9...     HTTP Status        0   \n",
       "\n",
       "  regex_label  \n",
       "0        None  \n",
       "1        None  \n",
       "2        None  \n",
       "3        None  \n",
       "4        None  "
      ]
     },
     "execution_count": 20,
     "metadata": {},
     "output_type": "execute_result"
    }
   ],
   "source": [
    "df[df.regex_label.isna()].head()"
   ]
  },
  {
   "cell_type": "code",
   "execution_count": 24,
   "metadata": {},
   "outputs": [],
   "source": [
    "df_non_regex = df[df.regex_label.isna()].copy()"
   ]
  },
  {
   "cell_type": "code",
   "execution_count": 25,
   "metadata": {},
   "outputs": [
    {
     "data": {
      "text/plain": [
       "target_label\n",
       "HTTP Status            1017\n",
       "Security Alert          371\n",
       "Error                   177\n",
       "Resource Usage          177\n",
       "Critical Error          161\n",
       "Workflow Error            4\n",
       "Deprecation Warning       3\n",
       "Name: count, dtype: int64"
      ]
     },
     "execution_count": 25,
     "metadata": {},
     "output_type": "execute_result"
    }
   ],
   "source": [
    "#Recods with very few target labels\n",
    "df_non_regex.target_label.value_counts()"
   ]
  },
  {
   "cell_type": "code",
   "execution_count": 26,
   "metadata": {},
   "outputs": [
    {
     "data": {
      "text/html": [
       "<div>\n",
       "<style scoped>\n",
       "    .dataframe tbody tr th:only-of-type {\n",
       "        vertical-align: middle;\n",
       "    }\n",
       "\n",
       "    .dataframe tbody tr th {\n",
       "        vertical-align: top;\n",
       "    }\n",
       "\n",
       "    .dataframe thead th {\n",
       "        text-align: right;\n",
       "    }\n",
       "</style>\n",
       "<table border=\"1\" class=\"dataframe\">\n",
       "  <thead>\n",
       "    <tr style=\"text-align: right;\">\n",
       "      <th></th>\n",
       "      <th>timestamp</th>\n",
       "      <th>source</th>\n",
       "      <th>log_message</th>\n",
       "      <th>target_label</th>\n",
       "      <th>cluster</th>\n",
       "      <th>regex_label</th>\n",
       "    </tr>\n",
       "  </thead>\n",
       "  <tbody>\n",
       "    <tr>\n",
       "      <th>60</th>\n",
       "      <td>2025-10-06 16:55:23</td>\n",
       "      <td>LegacyCRM</td>\n",
       "      <td>Lead conversion failed for prospect ID 7842 du...</td>\n",
       "      <td>Workflow Error</td>\n",
       "      <td>24</td>\n",
       "      <td>None</td>\n",
       "    </tr>\n",
       "    <tr>\n",
       "      <th>377</th>\n",
       "      <td>2025-06-24 12:16:29</td>\n",
       "      <td>LegacyCRM</td>\n",
       "      <td>Customer follow-up process for lead ID 5621 fa...</td>\n",
       "      <td>Workflow Error</td>\n",
       "      <td>62</td>\n",
       "      <td>None</td>\n",
       "    </tr>\n",
       "    <tr>\n",
       "      <th>1325</th>\n",
       "      <td>2025-04-17 07:33:44</td>\n",
       "      <td>LegacyCRM</td>\n",
       "      <td>Escalation rule execution failed for ticket ID...</td>\n",
       "      <td>Workflow Error</td>\n",
       "      <td>105</td>\n",
       "      <td>None</td>\n",
       "    </tr>\n",
       "    <tr>\n",
       "      <th>2217</th>\n",
       "      <td>2025-05-12 09:46:54</td>\n",
       "      <td>LegacyCRM</td>\n",
       "      <td>Task assignment for TeamID 3425 could not comp...</td>\n",
       "      <td>Workflow Error</td>\n",
       "      <td>133</td>\n",
       "      <td>None</td>\n",
       "    </tr>\n",
       "  </tbody>\n",
       "</table>\n",
       "</div>"
      ],
      "text/plain": [
       "                timestamp     source  \\\n",
       "60    2025-10-06 16:55:23  LegacyCRM   \n",
       "377   2025-06-24 12:16:29  LegacyCRM   \n",
       "1325  2025-04-17 07:33:44  LegacyCRM   \n",
       "2217  2025-05-12 09:46:54  LegacyCRM   \n",
       "\n",
       "                                            log_message    target_label  \\\n",
       "60    Lead conversion failed for prospect ID 7842 du...  Workflow Error   \n",
       "377   Customer follow-up process for lead ID 5621 fa...  Workflow Error   \n",
       "1325  Escalation rule execution failed for ticket ID...  Workflow Error   \n",
       "2217  Task assignment for TeamID 3425 could not comp...  Workflow Error   \n",
       "\n",
       "      cluster regex_label  \n",
       "60         24        None  \n",
       "377        62        None  \n",
       "1325      105        None  \n",
       "2217      133        None  "
      ]
     },
     "execution_count": 26,
     "metadata": {},
     "output_type": "execute_result"
    }
   ],
   "source": [
    "df[df.target_label == \"Workflow Error\"]"
   ]
  },
  {
   "cell_type": "code",
   "execution_count": 27,
   "metadata": {},
   "outputs": [
    {
     "data": {
      "text/html": [
       "<div>\n",
       "<style scoped>\n",
       "    .dataframe tbody tr th:only-of-type {\n",
       "        vertical-align: middle;\n",
       "    }\n",
       "\n",
       "    .dataframe tbody tr th {\n",
       "        vertical-align: top;\n",
       "    }\n",
       "\n",
       "    .dataframe thead th {\n",
       "        text-align: right;\n",
       "    }\n",
       "</style>\n",
       "<table border=\"1\" class=\"dataframe\">\n",
       "  <thead>\n",
       "    <tr style=\"text-align: right;\">\n",
       "      <th></th>\n",
       "      <th>timestamp</th>\n",
       "      <th>source</th>\n",
       "      <th>log_message</th>\n",
       "      <th>target_label</th>\n",
       "      <th>cluster</th>\n",
       "      <th>regex_label</th>\n",
       "    </tr>\n",
       "  </thead>\n",
       "  <tbody>\n",
       "    <tr>\n",
       "      <th>255</th>\n",
       "      <td>2025-05-03 16:55:35</td>\n",
       "      <td>LegacyCRM</td>\n",
       "      <td>API endpoint 'getCustomerDetails' is deprecate...</td>\n",
       "      <td>Deprecation Warning</td>\n",
       "      <td>48</td>\n",
       "      <td>None</td>\n",
       "    </tr>\n",
       "    <tr>\n",
       "      <th>1734</th>\n",
       "      <td>2025-04-30 07:47:30</td>\n",
       "      <td>LegacyCRM</td>\n",
       "      <td>The 'ExportToCSV' feature is outdated. Please ...</td>\n",
       "      <td>Deprecation Warning</td>\n",
       "      <td>118</td>\n",
       "      <td>None</td>\n",
       "    </tr>\n",
       "    <tr>\n",
       "      <th>1826</th>\n",
       "      <td>2025-01-23 10:33:36</td>\n",
       "      <td>LegacyCRM</td>\n",
       "      <td>Support for legacy authentication methods will...</td>\n",
       "      <td>Deprecation Warning</td>\n",
       "      <td>122</td>\n",
       "      <td>None</td>\n",
       "    </tr>\n",
       "  </tbody>\n",
       "</table>\n",
       "</div>"
      ],
      "text/plain": [
       "                timestamp     source  \\\n",
       "255   2025-05-03 16:55:35  LegacyCRM   \n",
       "1734  2025-04-30 07:47:30  LegacyCRM   \n",
       "1826  2025-01-23 10:33:36  LegacyCRM   \n",
       "\n",
       "                                            log_message         target_label  \\\n",
       "255   API endpoint 'getCustomerDetails' is deprecate...  Deprecation Warning   \n",
       "1734  The 'ExportToCSV' feature is outdated. Please ...  Deprecation Warning   \n",
       "1826  Support for legacy authentication methods will...  Deprecation Warning   \n",
       "\n",
       "      cluster regex_label  \n",
       "255        48        None  \n",
       "1734      118        None  \n",
       "1826      122        None  "
      ]
     },
     "execution_count": 27,
     "metadata": {},
     "output_type": "execute_result"
    }
   ],
   "source": [
    "df[df.target_label == \"Deprecation Warning\"]"
   ]
  },
  {
   "cell_type": "code",
   "execution_count": 28,
   "metadata": {},
   "outputs": [],
   "source": [
    "df_non_legacy = df_non_regex[df_non_regex.source != \"LegacyCRM\"]"
   ]
  },
  {
   "cell_type": "code",
   "execution_count": 29,
   "metadata": {},
   "outputs": [
    {
     "data": {
      "text/plain": [
       "array(['ModernCRM', 'AnalyticsEngine', 'ModernHR', 'BillingSystem',\n",
       "       'ThirdPartyAPI'], dtype=object)"
      ]
     },
     "execution_count": 29,
     "metadata": {},
     "output_type": "execute_result"
    }
   ],
   "source": [
    "df_non_legacy.source.unique()"
   ]
  },
  {
   "cell_type": "code",
   "execution_count": 32,
   "metadata": {},
   "outputs": [
    {
     "data": {
      "text/plain": [
       "array([[-0.10293972,  0.03354599, -0.02202604, ...,  0.00457789,\n",
       "        -0.04259715,  0.00322623],\n",
       "       [ 0.00804573, -0.03573925,  0.04938737, ...,  0.01538317,\n",
       "        -0.06230951, -0.02774668],\n",
       "       [-0.00908224,  0.13003926, -0.05275577, ...,  0.02014109,\n",
       "        -0.05117095, -0.02930295]], shape=(3, 384), dtype=float32)"
      ]
     },
     "execution_count": 32,
     "metadata": {},
     "output_type": "execute_result"
    }
   ],
   "source": [
    "filtered_embeddings = embeddings[df_non_legacy.index]\n",
    "filtered_embeddings[:3]"
   ]
  },
  {
   "cell_type": "code",
   "execution_count": 35,
   "metadata": {},
   "outputs": [
    {
     "name": "stdout",
     "output_type": "stream",
     "text": [
      "                precision    recall  f1-score   support\n",
      "\n",
      "Critical Error       0.96      1.00      0.98        51\n",
      "         Error       1.00      0.96      0.98        48\n",
      "   HTTP Status       1.00      1.00      1.00       296\n",
      "Resource Usage       1.00      1.00      1.00        54\n",
      "Security Alert       1.00      1.00      1.00       122\n",
      "\n",
      "      accuracy                           1.00       571\n",
      "     macro avg       0.99      0.99      0.99       571\n",
      "  weighted avg       1.00      1.00      1.00       571\n",
      "\n"
     ]
    }
   ],
   "source": [
    "X_train, X_test, y_train, y_test = train_test_split(filtered_embeddings, df_non_legacy.target_label, test_size=0.3, random_state=101)\n",
    "lr = LogisticRegression(max_iter=1000)\n",
    "lr.fit(X_train, y_train)\n",
    "y_pred = lr.predict(X_test)\n",
    "print(classification_report(y_test, y_pred))"
   ]
  },
  {
   "cell_type": "code",
   "execution_count": 48,
   "metadata": {},
   "outputs": [
    {
     "data": {
      "text/plain": [
       "['c:\\\\Python\\\\LogClassificationSystem\\\\models\\\\log_classifier_LR_model.joblib']"
      ]
     },
     "execution_count": 48,
     "metadata": {},
     "output_type": "execute_result"
    }
   ],
   "source": [
    "models_folder_path = os.path.join(os.getcwd().split(\"training\")[0],\"models\")\n",
    "os.makedirs(models_folder_path, exist_ok=True)\n",
    "model_file_path = os.path.join(models_folder_path, \"log_classifier_LR_model.joblib\")\n",
    "joblib.dump(lr, model_file_path)"
   ]
  },
  {
   "cell_type": "code",
   "execution_count": 42,
   "metadata": {},
   "outputs": [
    {
     "data": {
      "text/plain": [
       "'c:\\\\Python\\\\LogClassificationSystem\\\\training'"
      ]
     },
     "execution_count": 42,
     "metadata": {},
     "output_type": "execute_result"
    }
   ],
   "source": [
    "pwd"
   ]
  },
  {
   "cell_type": "code",
   "execution_count": 45,
   "metadata": {},
   "outputs": [
    {
     "data": {
      "text/plain": [
       "'c:\\\\Python\\\\LogClassificationSystem\\\\models'"
      ]
     },
     "execution_count": 45,
     "metadata": {},
     "output_type": "execute_result"
    }
   ],
   "source": []
  },
  {
   "cell_type": "code",
   "execution_count": null,
   "metadata": {},
   "outputs": [],
   "source": []
  }
 ],
 "metadata": {
  "kernelspec": {
   "display_name": ".env",
   "language": "python",
   "name": "python3"
  },
  "language_info": {
   "codemirror_mode": {
    "name": "ipython",
    "version": 3
   },
   "file_extension": ".py",
   "mimetype": "text/x-python",
   "name": "python",
   "nbconvert_exporter": "python",
   "pygments_lexer": "ipython3",
   "version": "3.12.6"
  }
 },
 "nbformat": 4,
 "nbformat_minor": 2
}
